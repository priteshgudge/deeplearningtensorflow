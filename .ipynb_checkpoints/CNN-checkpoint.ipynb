{
 "cells": [
  {
   "cell_type": "markdown",
   "metadata": {},
   "source": [
    "# Applying Convolutional Network to MNIST"
   ]
  },
  {
   "cell_type": "code",
   "execution_count": 11,
   "metadata": {
    "collapsed": false
   },
   "outputs": [
    {
     "name": "stdout",
     "output_type": "stream",
     "text": [
      "Extracting ./train-images-idx3-ubyte.gz\n",
      "Extracting ./train-labels-idx1-ubyte.gz\n",
      "Extracting ./t10k-images-idx3-ubyte.gz\n",
      "Extracting ./t10k-labels-idx1-ubyte.gz\n"
     ]
    }
   ],
   "source": [
    "from tensorflow.examples.tutorials.mnist import input_data\n",
    "mnist = input_data.read_data_sets(\".\", one_hot=True, reshape=False)\n",
    "\n",
    "\n"
   ]
  },
  {
   "cell_type": "markdown",
   "metadata": {},
   "source": [
    "## Hyperparameters and Inputs"
   ]
  },
  {
   "cell_type": "code",
   "execution_count": 24,
   "metadata": {
    "collapsed": true
   },
   "outputs": [],
   "source": [
    "\n",
    "import tensorflow as tf\n",
    "\n",
    "# Parameters\n",
    "learning_rate = 0.000001\n",
    "epochs = 15\n",
    "batch_size = 128\n",
    "\n",
    "# Number of samples to calculate validation and accuracy\n",
    "# Decrease this if you're running out of memory to calculate accuracy\n",
    "test_valid_size = 256\n",
    "\n",
    "# Network Parameters\n",
    "n_classes = 10  # MNIST total classes (0-9 digits)\n",
    "dropout = 0.5  # Dropout, probability to keep units\n"
   ]
  },
  {
   "cell_type": "markdown",
   "metadata": {},
   "source": [
    "## # Store layers weight & bias"
   ]
  },
  {
   "cell_type": "code",
   "execution_count": 25,
   "metadata": {
    "collapsed": true
   },
   "outputs": [],
   "source": [
    "# Store layers weight & bias\n",
    "weights = {\n",
    "    'wc1': tf.Variable(tf.random_normal([5, 5, 1, 32])),\n",
    "    'wc2': tf.Variable(tf.random_normal([5, 5, 32, 64])),\n",
    "    'wd1': tf.Variable(tf.random_normal([7*7*64, 1024])),\n",
    "    'out': tf.Variable(tf.random_normal([1024, n_classes]))}\n",
    "\n",
    "biases = {\n",
    "    'bc1': tf.Variable(tf.random_normal([32])),\n",
    "    'bc2': tf.Variable(tf.random_normal([64])),\n",
    "    'bd1': tf.Variable(tf.random_normal([1024])),\n",
    "    'out': tf.Variable(tf.random_normal([n_classes]))}\n"
   ]
  },
  {
   "cell_type": "markdown",
   "metadata": {},
   "source": [
    "## Defining parts of CNN"
   ]
  },
  {
   "cell_type": "code",
   "execution_count": 26,
   "metadata": {
    "collapsed": true
   },
   "outputs": [],
   "source": [
    "\n",
    "\n",
    "def conv2d(x, W, b, strides=1):\n",
    "    x = tf.nn.conv2d(x, W, strides=[1, strides, strides, 1], padding='SAME')\n",
    "    x = tf.nn.bias_add(x, b)\n",
    "    return tf.nn.relu(x)\n",
    "\n",
    "def maxpool2d(x, k=2):\n",
    "    return tf.nn.max_pool(x, ksize=[1, k, k, 1], strides=[1, k, k, 1], padding='SAME')\n",
    "\n",
    "def conv_net(x, weights, biases, dropout):\n",
    "    # Layer 1 - 28*28*1 to 14*14*32\n",
    "    conv1 = conv2d(x, weights['wc1'], biases['bc1'])\n",
    "    conv1 = maxpool2d(conv1, k=2)\n",
    "\n",
    "    # Layer 2 - 14*14*32 to 7*7*64\n",
    "    conv2 = conv2d(conv1, weights['wc2'], biases['bc2'])\n",
    "    conv2 = maxpool2d(conv2, k=2)\n",
    "\n",
    "    # Fully connected layer - 7*7*64 to 1024\n",
    "    fc1 = tf.reshape(conv2, [-1, weights['wd1'].get_shape().as_list()[0]])\n",
    "    fc1 = tf.add(tf.matmul(fc1, weights['wd1']), biases['bd1'])\n",
    "    fc1 = tf.nn.relu(fc1)\n",
    "    fc1 = tf.nn.dropout(fc1, dropout)\n",
    "\n",
    "    # Output Layer - class prediction - 1024 to 10\n",
    "    out = tf.add(tf.matmul(fc1, weights['out']), biases['out'])\n",
    "    return out\n"
   ]
  },
  {
   "cell_type": "markdown",
   "metadata": {},
   "source": [
    "## Initializing the TF graph"
   ]
  },
  {
   "cell_type": "code",
   "execution_count": 27,
   "metadata": {
    "collapsed": true
   },
   "outputs": [],
   "source": [
    "# tf Graph input\n",
    "x = tf.placeholder(tf.float32, [None, 28, 28, 1])\n",
    "y = tf.placeholder(tf.float32, [None, n_classes])\n",
    "keep_prob = tf.placeholder(tf.float32)\n",
    "\n",
    "# Model\n",
    "logits = conv_net(x, weights, biases, keep_prob)\n",
    "\n",
    "# Define loss and optimizer\n",
    "cost = tf.reduce_mean(tf.nn.softmax_cross_entropy_with_logits(logits=logits, labels=y))\n",
    "optimizer = tf.train.GradientDescentOptimizer(learning_rate=learning_rate).minimize(cost)\n",
    "\n",
    "# Accuracy\n",
    "correct_pred = tf.equal(tf.argmax(logits, 1), tf.argmax(y, 1))\n",
    "accuracy = tf.reduce_mean(tf.cast(correct_pred, tf.float32))\n",
    "\n",
    "# Initializing the variables\n",
    "init = tf.global_variables_initializer()\n",
    "\n"
   ]
  },
  {
   "cell_type": "markdown",
   "metadata": {},
   "source": [
    "## Applying SGD to Network"
   ]
  },
  {
   "cell_type": "code",
   "execution_count": null,
   "metadata": {
    "collapsed": false
   },
   "outputs": [
    {
     "name": "stdout",
     "output_type": "stream",
     "text": [
      "Epoch  1, Batch   1 - Loss: 73102.5000 Validation Accuracy: 0.078125\n",
      "Epoch  1, Batch  51 - Loss: 27664.5098 Validation Accuracy: 0.132812\n",
      "Epoch  1, Batch 101 - Loss: 21658.5781 Validation Accuracy: 0.160156\n",
      "Epoch  1, Batch 151 - Loss: 19001.6602 Validation Accuracy: 0.214844\n",
      "Epoch  1, Batch 201 - Loss: 13402.7773 Validation Accuracy: 0.234375\n",
      "Epoch  1, Batch 251 - Loss: 12226.6523 Validation Accuracy: 0.277344\n",
      "Epoch  1, Batch 301 - Loss: 12564.9824 Validation Accuracy: 0.308594\n",
      "Epoch  1, Batch 351 - Loss: 10132.9883 Validation Accuracy: 0.316406\n",
      "Epoch  1, Batch 401 - Loss:  9745.5693 Validation Accuracy: 0.312500\n",
      "Epoch  2, Batch   1 - Loss:  9847.2881 Validation Accuracy: 0.312500\n",
      "Epoch  2, Batch  51 - Loss:  8235.0684 Validation Accuracy: 0.320312\n",
      "Epoch  2, Batch 101 - Loss:  7410.6855 Validation Accuracy: 0.347656\n",
      "Epoch  2, Batch 151 - Loss:  7710.4766 Validation Accuracy: 0.339844\n",
      "Epoch  2, Batch 201 - Loss:  7476.8389 Validation Accuracy: 0.359375\n",
      "Epoch  2, Batch 251 - Loss:  6406.1143 Validation Accuracy: 0.363281\n",
      "Epoch  2, Batch 301 - Loss:  5851.9404 Validation Accuracy: 0.371094\n",
      "Epoch  2, Batch 351 - Loss:  5510.6699 Validation Accuracy: 0.398438\n",
      "Epoch  2, Batch 401 - Loss:  4494.0322 Validation Accuracy: 0.394531\n",
      "Epoch  3, Batch   1 - Loss:  4757.2964 Validation Accuracy: 0.398438\n",
      "Epoch  3, Batch  51 - Loss:  4134.8091 Validation Accuracy: 0.386719\n",
      "Epoch  3, Batch 101 - Loss:  4057.7180 Validation Accuracy: 0.375000\n",
      "Epoch  3, Batch 151 - Loss:  4826.2837 Validation Accuracy: 0.367188\n",
      "Epoch  3, Batch 201 - Loss:  4109.2593 Validation Accuracy: 0.355469\n",
      "Epoch  3, Batch 251 - Loss:  4348.0918 Validation Accuracy: 0.363281\n",
      "Epoch  3, Batch 301 - Loss:  3702.6880 Validation Accuracy: 0.378906\n",
      "Epoch  3, Batch 351 - Loss:  2739.8430 Validation Accuracy: 0.378906\n",
      "Epoch  3, Batch 401 - Loss:  3193.5029 Validation Accuracy: 0.382812\n",
      "Epoch  4, Batch   1 - Loss:  3332.4399 Validation Accuracy: 0.386719\n",
      "Epoch  4, Batch  51 - Loss:  3271.9858 Validation Accuracy: 0.390625\n",
      "Epoch  4, Batch 101 - Loss:  3301.5249 Validation Accuracy: 0.398438\n",
      "Epoch  4, Batch 151 - Loss:  2872.0935 Validation Accuracy: 0.398438\n",
      "Epoch  4, Batch 201 - Loss:  3096.9482 Validation Accuracy: 0.394531\n",
      "Epoch  4, Batch 251 - Loss:  2157.0195 Validation Accuracy: 0.390625\n",
      "Epoch  4, Batch 301 - Loss:  2982.1836 Validation Accuracy: 0.398438\n",
      "Epoch  4, Batch 351 - Loss:  2338.9431 Validation Accuracy: 0.402344\n",
      "Epoch  4, Batch 401 - Loss:  2385.5586 Validation Accuracy: 0.394531\n",
      "Epoch  5, Batch   1 - Loss:  2597.1147 Validation Accuracy: 0.390625\n",
      "Epoch  5, Batch  51 - Loss:  2585.8794 Validation Accuracy: 0.394531\n",
      "Epoch  5, Batch 101 - Loss:  2270.5220 Validation Accuracy: 0.386719\n",
      "Epoch  5, Batch 151 - Loss:  1848.5516 Validation Accuracy: 0.359375\n",
      "Epoch  5, Batch 201 - Loss:  1896.1067 Validation Accuracy: 0.359375\n",
      "Epoch  5, Batch 251 - Loss:  1849.9150 Validation Accuracy: 0.343750\n",
      "Epoch  5, Batch 301 - Loss:  2077.7412 Validation Accuracy: 0.347656\n",
      "Epoch  5, Batch 351 - Loss:  2137.5667 Validation Accuracy: 0.328125\n",
      "Epoch  5, Batch 401 - Loss:  1711.5894 Validation Accuracy: 0.324219\n",
      "Epoch  6, Batch   1 - Loss:  1476.7545 Validation Accuracy: 0.308594\n",
      "Epoch  6, Batch  51 - Loss:  1857.3953 Validation Accuracy: 0.300781\n",
      "Epoch  6, Batch 101 - Loss:  1682.5515 Validation Accuracy: 0.304688\n",
      "Epoch  6, Batch 151 - Loss:  1617.9829 Validation Accuracy: 0.296875\n",
      "Epoch  6, Batch 201 - Loss:  1525.4777 Validation Accuracy: 0.296875\n",
      "Epoch  6, Batch 251 - Loss:  1547.4790 Validation Accuracy: 0.292969\n",
      "Epoch  6, Batch 301 - Loss:  1139.3237 Validation Accuracy: 0.281250\n",
      "Epoch  6, Batch 351 - Loss:  1355.7681 Validation Accuracy: 0.269531\n",
      "Epoch  6, Batch 401 - Loss:  1293.3236 Validation Accuracy: 0.265625\n",
      "Epoch  7, Batch   1 - Loss:  1480.6011 Validation Accuracy: 0.265625\n",
      "Epoch  7, Batch  51 - Loss:  1443.0869 Validation Accuracy: 0.265625\n",
      "Epoch  7, Batch 101 - Loss:  1399.9187 Validation Accuracy: 0.253906\n",
      "Epoch  7, Batch 151 - Loss:  1300.3160 Validation Accuracy: 0.250000\n",
      "Epoch  7, Batch 201 - Loss:  1148.3319 Validation Accuracy: 0.253906\n",
      "Epoch  7, Batch 251 - Loss:  1287.9836 Validation Accuracy: 0.257812\n",
      "Epoch  7, Batch 301 - Loss:  1276.0963 Validation Accuracy: 0.250000\n",
      "Epoch  7, Batch 351 - Loss:  1220.2396 Validation Accuracy: 0.242188\n",
      "Epoch  7, Batch 401 - Loss:  1380.4342 Validation Accuracy: 0.242188\n",
      "Epoch  8, Batch   1 - Loss:  1249.9276 Validation Accuracy: 0.234375\n",
      "Epoch  8, Batch  51 - Loss:  1200.9810 Validation Accuracy: 0.242188\n",
      "Epoch  8, Batch 101 - Loss:  1276.9392 Validation Accuracy: 0.246094\n",
      "Epoch  8, Batch 151 - Loss:  1071.3839 Validation Accuracy: 0.222656\n",
      "Epoch  8, Batch 201 - Loss:  1182.1309 Validation Accuracy: 0.222656\n",
      "Epoch  8, Batch 251 - Loss:  1444.6829 Validation Accuracy: 0.226562\n",
      "Epoch  8, Batch 301 - Loss:   917.2407 Validation Accuracy: 0.222656\n",
      "Epoch  8, Batch 351 - Loss:   978.6149 Validation Accuracy: 0.207031\n",
      "Epoch  8, Batch 401 - Loss:  1078.6317 Validation Accuracy: 0.210938\n",
      "Epoch  9, Batch   1 - Loss:  1013.6166 Validation Accuracy: 0.207031\n",
      "Epoch  9, Batch  51 - Loss:  1200.6340 Validation Accuracy: 0.199219\n",
      "Epoch  9, Batch 101 - Loss:   991.6243 Validation Accuracy: 0.207031\n",
      "Epoch  9, Batch 151 - Loss:  1084.1261 Validation Accuracy: 0.199219\n",
      "Epoch  9, Batch 201 - Loss:   856.8324 Validation Accuracy: 0.191406\n",
      "Epoch  9, Batch 251 - Loss:   987.8286 Validation Accuracy: 0.199219\n",
      "Epoch  9, Batch 301 - Loss:   931.6565 Validation Accuracy: 0.199219\n",
      "Epoch  9, Batch 351 - Loss:   968.1104 Validation Accuracy: 0.203125\n",
      "Epoch  9, Batch 401 - Loss:   944.2664 Validation Accuracy: 0.210938\n",
      "Epoch 10, Batch   1 - Loss:   968.1143 Validation Accuracy: 0.214844\n",
      "Epoch 10, Batch  51 - Loss:  1008.5627 Validation Accuracy: 0.214844\n",
      "Epoch 10, Batch 101 - Loss:   809.4281 Validation Accuracy: 0.210938\n",
      "Epoch 10, Batch 151 - Loss:   852.0079 Validation Accuracy: 0.195312\n",
      "Epoch 10, Batch 201 - Loss:   945.0891 Validation Accuracy: 0.187500\n",
      "Epoch 10, Batch 251 - Loss:   861.8983 Validation Accuracy: 0.183594\n",
      "Epoch 10, Batch 301 - Loss:   927.6494 Validation Accuracy: 0.179688\n",
      "Epoch 10, Batch 351 - Loss:   868.9482 Validation Accuracy: 0.187500\n",
      "Epoch 10, Batch 401 - Loss:   913.4989 Validation Accuracy: 0.183594\n",
      "Epoch 11, Batch   1 - Loss:   865.2991 Validation Accuracy: 0.179688\n",
      "Epoch 11, Batch  51 - Loss:   736.6927 Validation Accuracy: 0.191406\n",
      "Epoch 11, Batch 101 - Loss:   886.5908 Validation Accuracy: 0.183594\n",
      "Epoch 11, Batch 151 - Loss:   830.8713 Validation Accuracy: 0.183594\n",
      "Epoch 11, Batch 201 - Loss:   748.2953 Validation Accuracy: 0.187500\n",
      "Epoch 11, Batch 251 - Loss:   867.3955 Validation Accuracy: 0.179688\n",
      "Epoch 11, Batch 301 - Loss:   941.8611 Validation Accuracy: 0.187500\n",
      "Epoch 11, Batch 351 - Loss:   687.8656 Validation Accuracy: 0.187500\n",
      "Epoch 11, Batch 401 - Loss:   708.4690 Validation Accuracy: 0.183594\n",
      "Epoch 12, Batch   1 - Loss:   757.0234 Validation Accuracy: 0.179688\n",
      "Epoch 12, Batch  51 - Loss:   905.8898 Validation Accuracy: 0.175781\n",
      "Epoch 12, Batch 101 - Loss:   837.2910 Validation Accuracy: 0.175781\n"
     ]
    }
   ],
   "source": [
    "# Launch the graph\n",
    "with tf.Session() as sess:\n",
    "    sess.run(init)\n",
    "\n",
    "    for epoch in range(epochs):\n",
    "        for batch in range(mnist.train.num_examples//batch_size):\n",
    "            batch_x, batch_y = mnist.train.next_batch(batch_size)\n",
    "            sess.run(optimizer, feed_dict={x: batch_x, y: batch_y, keep_prob: dropout})\n",
    "\n",
    "            # Calculate batch loss and accuracy\n",
    "            loss = sess.run(cost, feed_dict={x: batch_x, y: batch_y, keep_prob: 1.})\n",
    "            valid_acc = sess.run(accuracy, feed_dict={\n",
    "                x: mnist.validation.images[:test_valid_size],\n",
    "                y: mnist.validation.labels[:test_valid_size],\n",
    "                keep_prob: 1.})\n",
    "            \n",
    "            if batch%50 == 0:\n",
    "                print('Epoch {:>2}, Batch {:>3} - Loss: {:>10.4f} Validation Accuracy: {:.6f}'.format(\n",
    "                    epoch + 1,\n",
    "                    batch + 1,\n",
    "                    loss,\n",
    "                    valid_acc))\n",
    "\n",
    "    # Calculate Test Accuracy\n",
    "    test_acc = sess.run(accuracy, feed_dict={\n",
    "        x: mnist.test.images[:test_valid_size],\n",
    "        y: mnist.test.labels[:test_valid_size],\n",
    "        keep_prob: 1.})\n",
    "    print('Testing Accuracy: {}'.format(test_acc))\n"
   ]
  },
  {
   "cell_type": "code",
   "execution_count": null,
   "metadata": {
    "collapsed": true
   },
   "outputs": [],
   "source": []
  },
  {
   "cell_type": "code",
   "execution_count": null,
   "metadata": {
    "collapsed": true
   },
   "outputs": [],
   "source": []
  }
 ],
 "metadata": {
  "kernelspec": {
   "display_name": "Python 3",
   "language": "python",
   "name": "python3"
  },
  "language_info": {
   "codemirror_mode": {
    "name": "ipython",
    "version": 3
   },
   "file_extension": ".py",
   "mimetype": "text/x-python",
   "name": "python",
   "nbconvert_exporter": "python",
   "pygments_lexer": "ipython3",
   "version": "3.6.0"
  }
 },
 "nbformat": 4,
 "nbformat_minor": 2
}
